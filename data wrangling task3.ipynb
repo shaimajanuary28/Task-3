{
 "cells": [
  {
   "cell_type": "code",
   "execution_count": 111,
   "id": "030fe0c5",
   "metadata": {},
   "outputs": [],
   "source": [
    "import pandas as pd\n",
    "import matplotlib.pylab as plt\n",
    "import numpy as np"
   ]
  },
  {
   "cell_type": "code",
   "execution_count": 112,
   "id": "fa51f269",
   "metadata": {},
   "outputs": [],
   "source": [
    "filename = \"Data_Science_Fields_Salary_Categorizationcsv.csv\""
   ]
  },
  {
   "cell_type": "code",
   "execution_count": 113,
   "id": "b9c50f7d",
   "metadata": {},
   "outputs": [],
   "source": [
    "headers = [\"N\",\"working_year\",\"Designation\",\"Experience\",\"Employment_Status\",\"Salary_In_Rupees\",\"Employee_Location\",\"Company_Location\",\"Company_Size\",\"Remote_Working_Ratio\"]"
   ]
  },
  {
   "cell_type": "code",
   "execution_count": 114,
   "id": "d0e9330c",
   "metadata": {},
   "outputs": [],
   "source": [
    "df = pd.read_csv(filename, names = headers)"
   ]
  },
  {
   "cell_type": "code",
   "execution_count": 115,
   "id": "837395cf",
   "metadata": {},
   "outputs": [
    {
     "data": {
      "text/html": [
       "<div>\n",
       "<style scoped>\n",
       "    .dataframe tbody tr th:only-of-type {\n",
       "        vertical-align: middle;\n",
       "    }\n",
       "\n",
       "    .dataframe tbody tr th {\n",
       "        vertical-align: top;\n",
       "    }\n",
       "\n",
       "    .dataframe thead th {\n",
       "        text-align: right;\n",
       "    }\n",
       "</style>\n",
       "<table border=\"1\" class=\"dataframe\">\n",
       "  <thead>\n",
       "    <tr style=\"text-align: right;\">\n",
       "      <th></th>\n",
       "      <th>N</th>\n",
       "      <th>working_year</th>\n",
       "      <th>Designation</th>\n",
       "      <th>Experience</th>\n",
       "      <th>Employment_Status</th>\n",
       "      <th>Salary_In_Rupees</th>\n",
       "      <th>Employee_Location</th>\n",
       "      <th>Company_Location</th>\n",
       "      <th>Company_Size</th>\n",
       "      <th>Remote_Working_Ratio</th>\n",
       "    </tr>\n",
       "  </thead>\n",
       "  <tbody>\n",
       "    <tr>\n",
       "      <th>0</th>\n",
       "      <td>N</td>\n",
       "      <td>Working_Year</td>\n",
       "      <td>Designation</td>\n",
       "      <td>Experience</td>\n",
       "      <td>Employment_Status</td>\n",
       "      <td>Salary_In_Rupees</td>\n",
       "      <td>Employee_Location</td>\n",
       "      <td>Company_Location</td>\n",
       "      <td>Company_Size</td>\n",
       "      <td>Remote_Working_Ratio</td>\n",
       "    </tr>\n",
       "    <tr>\n",
       "      <th>1</th>\n",
       "      <td>1</td>\n",
       "      <td>2020</td>\n",
       "      <td>Data Scientist</td>\n",
       "      <td>MI</td>\n",
       "      <td>FT</td>\n",
       "      <td>6,352,272.00</td>\n",
       "      <td>DE</td>\n",
       "      <td>DE</td>\n",
       "      <td>L</td>\n",
       "      <td>0</td>\n",
       "    </tr>\n",
       "    <tr>\n",
       "      <th>2</th>\n",
       "      <td>2</td>\n",
       "      <td>2020</td>\n",
       "      <td>Machine Learning Scientist</td>\n",
       "      <td>SE</td>\n",
       "      <td>FT</td>\n",
       "      <td>20,688,070.00</td>\n",
       "      <td>JP</td>\n",
       "      <td>JP</td>\n",
       "      <td>S</td>\n",
       "      <td>NaN</td>\n",
       "    </tr>\n",
       "    <tr>\n",
       "      <th>3</th>\n",
       "      <td>3</td>\n",
       "      <td>2020</td>\n",
       "      <td>Big Data Engineer</td>\n",
       "      <td>SE</td>\n",
       "      <td>FT</td>\n",
       "      <td>8,674,985.00</td>\n",
       "      <td>GB</td>\n",
       "      <td>GB</td>\n",
       "      <td>M</td>\n",
       "      <td>NaN</td>\n",
       "    </tr>\n",
       "    <tr>\n",
       "      <th>4</th>\n",
       "      <td>4</td>\n",
       "      <td>2020</td>\n",
       "      <td>Product Data Analyst</td>\n",
       "      <td>MI</td>\n",
       "      <td>FT</td>\n",
       "      <td>1,591,390.00</td>\n",
       "      <td>HN</td>\n",
       "      <td>HN</td>\n",
       "      <td>S</td>\n",
       "      <td>0</td>\n",
       "    </tr>\n",
       "  </tbody>\n",
       "</table>\n",
       "</div>"
      ],
      "text/plain": [
       "   N  working_year                 Designation  Experience  Employment_Status  \\\n",
       "0  N  Working_Year                 Designation  Experience  Employment_Status   \n",
       "1  1          2020              Data Scientist          MI                 FT   \n",
       "2  2          2020  Machine Learning Scientist          SE                 FT   \n",
       "3  3          2020           Big Data Engineer          SE                 FT   \n",
       "4  4          2020        Product Data Analyst          MI                 FT   \n",
       "\n",
       "   Salary_In_Rupees  Employee_Location  Company_Location  Company_Size  \\\n",
       "0  Salary_In_Rupees  Employee_Location  Company_Location  Company_Size   \n",
       "1      6,352,272.00                 DE                DE             L   \n",
       "2     20,688,070.00                 JP                JP             S   \n",
       "3      8,674,985.00                 GB                GB             M   \n",
       "4      1,591,390.00                 HN                HN             S   \n",
       "\n",
       "   Remote_Working_Ratio  \n",
       "0  Remote_Working_Ratio  \n",
       "1                     0  \n",
       "2                   NaN  \n",
       "3                   NaN  \n",
       "4                     0  "
      ]
     },
     "execution_count": 115,
     "metadata": {},
     "output_type": "execute_result"
    }
   ],
   "source": [
    "df.head(5)"
   ]
  },
  {
   "cell_type": "code",
   "execution_count": 116,
   "id": "16f9e9af",
   "metadata": {},
   "outputs": [
    {
     "name": "stdout",
     "output_type": "stream",
     "text": [
      "<class 'pandas.core.frame.DataFrame'>\n",
      "RangeIndex: 608 entries, 0 to 607\n",
      "Data columns (total 10 columns):\n",
      " #   Column                Non-Null Count  Dtype \n",
      "---  ------                --------------  ----- \n",
      " 0   N                     608 non-null    object\n",
      " 1   working_year          608 non-null    object\n",
      " 2   Designation           608 non-null    object\n",
      " 3   Experience            608 non-null    object\n",
      " 4   Employment_Status     608 non-null    object\n",
      " 5   Salary_In_Rupees      604 non-null    object\n",
      " 6   Employee_Location     606 non-null    object\n",
      " 7   Company_Location      608 non-null    object\n",
      " 8   Company_Size          608 non-null    object\n",
      " 9   Remote_Working_Ratio  605 non-null    object\n",
      "dtypes: object(10)\n",
      "memory usage: 47.6+ KB\n"
     ]
    },
    {
     "data": {
      "text/html": [
       "<div>\n",
       "<style scoped>\n",
       "    .dataframe tbody tr th:only-of-type {\n",
       "        vertical-align: middle;\n",
       "    }\n",
       "\n",
       "    .dataframe tbody tr th {\n",
       "        vertical-align: top;\n",
       "    }\n",
       "\n",
       "    .dataframe thead th {\n",
       "        text-align: right;\n",
       "    }\n",
       "</style>\n",
       "<table border=\"1\" class=\"dataframe\">\n",
       "  <thead>\n",
       "    <tr style=\"text-align: right;\">\n",
       "      <th></th>\n",
       "      <th>N</th>\n",
       "      <th>working_year</th>\n",
       "      <th>Designation</th>\n",
       "      <th>Experience</th>\n",
       "      <th>Employment_Status</th>\n",
       "      <th>Salary_In_Rupees</th>\n",
       "      <th>Employee_Location</th>\n",
       "      <th>Company_Location</th>\n",
       "      <th>Company_Size</th>\n",
       "      <th>Remote_Working_Ratio</th>\n",
       "    </tr>\n",
       "  </thead>\n",
       "  <tbody>\n",
       "    <tr>\n",
       "      <th>0</th>\n",
       "      <td>False</td>\n",
       "      <td>False</td>\n",
       "      <td>False</td>\n",
       "      <td>False</td>\n",
       "      <td>False</td>\n",
       "      <td>False</td>\n",
       "      <td>False</td>\n",
       "      <td>False</td>\n",
       "      <td>False</td>\n",
       "      <td>False</td>\n",
       "    </tr>\n",
       "    <tr>\n",
       "      <th>1</th>\n",
       "      <td>False</td>\n",
       "      <td>False</td>\n",
       "      <td>False</td>\n",
       "      <td>False</td>\n",
       "      <td>False</td>\n",
       "      <td>False</td>\n",
       "      <td>False</td>\n",
       "      <td>False</td>\n",
       "      <td>False</td>\n",
       "      <td>False</td>\n",
       "    </tr>\n",
       "    <tr>\n",
       "      <th>2</th>\n",
       "      <td>False</td>\n",
       "      <td>False</td>\n",
       "      <td>False</td>\n",
       "      <td>False</td>\n",
       "      <td>False</td>\n",
       "      <td>False</td>\n",
       "      <td>False</td>\n",
       "      <td>False</td>\n",
       "      <td>False</td>\n",
       "      <td>True</td>\n",
       "    </tr>\n",
       "    <tr>\n",
       "      <th>3</th>\n",
       "      <td>False</td>\n",
       "      <td>False</td>\n",
       "      <td>False</td>\n",
       "      <td>False</td>\n",
       "      <td>False</td>\n",
       "      <td>False</td>\n",
       "      <td>False</td>\n",
       "      <td>False</td>\n",
       "      <td>False</td>\n",
       "      <td>True</td>\n",
       "    </tr>\n",
       "    <tr>\n",
       "      <th>4</th>\n",
       "      <td>False</td>\n",
       "      <td>False</td>\n",
       "      <td>False</td>\n",
       "      <td>False</td>\n",
       "      <td>False</td>\n",
       "      <td>False</td>\n",
       "      <td>False</td>\n",
       "      <td>False</td>\n",
       "      <td>False</td>\n",
       "      <td>False</td>\n",
       "    </tr>\n",
       "  </tbody>\n",
       "</table>\n",
       "</div>"
      ],
      "text/plain": [
       "       N  working_year  Designation  Experience  Employment_Status  \\\n",
       "0  False         False        False       False              False   \n",
       "1  False         False        False       False              False   \n",
       "2  False         False        False       False              False   \n",
       "3  False         False        False       False              False   \n",
       "4  False         False        False       False              False   \n",
       "\n",
       "   Salary_In_Rupees  Employee_Location  Company_Location  Company_Size  \\\n",
       "0             False              False             False         False   \n",
       "1             False              False             False         False   \n",
       "2             False              False             False         False   \n",
       "3             False              False             False         False   \n",
       "4             False              False             False         False   \n",
       "\n",
       "   Remote_Working_Ratio  \n",
       "0                 False  \n",
       "1                 False  \n",
       "2                  True  \n",
       "3                  True  \n",
       "4                 False  "
      ]
     },
     "execution_count": 116,
     "metadata": {},
     "output_type": "execute_result"
    }
   ],
   "source": [
    "df.info()\n",
    "missing_data = df.isnull()\n",
    "missing_data.head(5)"
   ]
  },
  {
   "cell_type": "code",
   "execution_count": 117,
   "id": "d7b1d00f",
   "metadata": {},
   "outputs": [
    {
     "data": {
      "text/plain": [
       "0      Salary_In_Rupees\n",
       "1          6.352.272.00\n",
       "2         20.688.070.00\n",
       "3          8.674.985.00\n",
       "4          1.591.390.00\n",
       "             ...       \n",
       "603       12.253.703.00\n",
       "604       10.025.757.00\n",
       "605       10.264.466.00\n",
       "606       11.935.425.00\n",
       "607       15.913.900.00\n",
       "Name: Salary_In_Rupees, Length: 608, dtype: object"
      ]
     },
     "execution_count": 117,
     "metadata": {},
     "output_type": "execute_result"
    }
   ],
   "source": [
    "df['Salary_In_Rupees'].str.replace(',','.')"
   ]
  },
  {
   "cell_type": "code",
   "execution_count": 118,
   "id": "99864c1e",
   "metadata": {},
   "outputs": [
    {
     "data": {
      "text/html": [
       "<div>\n",
       "<style scoped>\n",
       "    .dataframe tbody tr th:only-of-type {\n",
       "        vertical-align: middle;\n",
       "    }\n",
       "\n",
       "    .dataframe tbody tr th {\n",
       "        vertical-align: top;\n",
       "    }\n",
       "\n",
       "    .dataframe thead th {\n",
       "        text-align: right;\n",
       "    }\n",
       "</style>\n",
       "<table border=\"1\" class=\"dataframe\">\n",
       "  <thead>\n",
       "    <tr style=\"text-align: right;\">\n",
       "      <th></th>\n",
       "      <th>N</th>\n",
       "      <th>working_year</th>\n",
       "      <th>Designation</th>\n",
       "      <th>Experience</th>\n",
       "      <th>Employment_Status</th>\n",
       "      <th>Salary_In_Rupees</th>\n",
       "      <th>Employee_Location</th>\n",
       "      <th>Company_Location</th>\n",
       "      <th>Company_Size</th>\n",
       "      <th>Remote_Working_Ratio</th>\n",
       "    </tr>\n",
       "  </thead>\n",
       "  <tbody>\n",
       "    <tr>\n",
       "      <th>0</th>\n",
       "      <td>N</td>\n",
       "      <td>Working_Year</td>\n",
       "      <td>Designation</td>\n",
       "      <td>Experience</td>\n",
       "      <td>Employment_Status</td>\n",
       "      <td>Salary_In_Rupees</td>\n",
       "      <td>Employee_Location</td>\n",
       "      <td>Company_Location</td>\n",
       "      <td>Company_Size</td>\n",
       "      <td>Remote_Working_Ratio</td>\n",
       "    </tr>\n",
       "    <tr>\n",
       "      <th>1</th>\n",
       "      <td>1</td>\n",
       "      <td>2020</td>\n",
       "      <td>Data Scientist</td>\n",
       "      <td>MI</td>\n",
       "      <td>FT</td>\n",
       "      <td>6,352,272.00</td>\n",
       "      <td>DE</td>\n",
       "      <td>DE</td>\n",
       "      <td>L</td>\n",
       "      <td>0</td>\n",
       "    </tr>\n",
       "    <tr>\n",
       "      <th>2</th>\n",
       "      <td>2</td>\n",
       "      <td>2020</td>\n",
       "      <td>Machine Learning Scientist</td>\n",
       "      <td>SE</td>\n",
       "      <td>FT</td>\n",
       "      <td>20,688,070.00</td>\n",
       "      <td>JP</td>\n",
       "      <td>JP</td>\n",
       "      <td>S</td>\n",
       "      <td>NaN</td>\n",
       "    </tr>\n",
       "    <tr>\n",
       "      <th>3</th>\n",
       "      <td>3</td>\n",
       "      <td>2020</td>\n",
       "      <td>Big Data Engineer</td>\n",
       "      <td>SE</td>\n",
       "      <td>FT</td>\n",
       "      <td>8,674,985.00</td>\n",
       "      <td>GB</td>\n",
       "      <td>GB</td>\n",
       "      <td>M</td>\n",
       "      <td>NaN</td>\n",
       "    </tr>\n",
       "    <tr>\n",
       "      <th>4</th>\n",
       "      <td>4</td>\n",
       "      <td>2020</td>\n",
       "      <td>Product Data Analyst</td>\n",
       "      <td>MI</td>\n",
       "      <td>FT</td>\n",
       "      <td>1,591,390.00</td>\n",
       "      <td>HN</td>\n",
       "      <td>HN</td>\n",
       "      <td>S</td>\n",
       "      <td>0</td>\n",
       "    </tr>\n",
       "  </tbody>\n",
       "</table>\n",
       "</div>"
      ],
      "text/plain": [
       "   N  working_year                 Designation  Experience  Employment_Status  \\\n",
       "0  N  Working_Year                 Designation  Experience  Employment_Status   \n",
       "1  1          2020              Data Scientist          MI                 FT   \n",
       "2  2          2020  Machine Learning Scientist          SE                 FT   \n",
       "3  3          2020           Big Data Engineer          SE                 FT   \n",
       "4  4          2020        Product Data Analyst          MI                 FT   \n",
       "\n",
       "   Salary_In_Rupees  Employee_Location  Company_Location  Company_Size  \\\n",
       "0  Salary_In_Rupees  Employee_Location  Company_Location  Company_Size   \n",
       "1      6,352,272.00                 DE                DE             L   \n",
       "2     20,688,070.00                 JP                JP             S   \n",
       "3      8,674,985.00                 GB                GB             M   \n",
       "4      1,591,390.00                 HN                HN             S   \n",
       "\n",
       "   Remote_Working_Ratio  \n",
       "0  Remote_Working_Ratio  \n",
       "1                     0  \n",
       "2                   NaN  \n",
       "3                   NaN  \n",
       "4                     0  "
      ]
     },
     "execution_count": 118,
     "metadata": {},
     "output_type": "execute_result"
    }
   ],
   "source": [
    "df.head()"
   ]
  },
  {
   "cell_type": "code",
   "execution_count": 119,
   "id": "4a95b66a",
   "metadata": {},
   "outputs": [
    {
     "name": "stdout",
     "output_type": "stream",
     "text": [
      "N\n",
      "False    608\n",
      "Name: N, dtype: int64\n",
      "\n",
      "working_year\n",
      "False    608\n",
      "Name: working_year, dtype: int64\n",
      "\n",
      "Designation\n",
      "False    608\n",
      "Name: Designation, dtype: int64\n",
      "\n",
      "Experience\n",
      "False    608\n",
      "Name: Experience, dtype: int64\n",
      "\n",
      "Employment_Status\n",
      "False    608\n",
      "Name: Employment_Status, dtype: int64\n",
      "\n",
      "Salary_In_Rupees\n",
      "False    604\n",
      "True       4\n",
      "Name: Salary_In_Rupees, dtype: int64\n",
      "\n",
      "Employee_Location\n",
      "False    606\n",
      "True       2\n",
      "Name: Employee_Location, dtype: int64\n",
      "\n",
      "Company_Location\n",
      "False    608\n",
      "Name: Company_Location, dtype: int64\n",
      "\n",
      "Company_Size\n",
      "False    608\n",
      "Name: Company_Size, dtype: int64\n",
      "\n",
      "Remote_Working_Ratio\n",
      "False    605\n",
      "True       3\n",
      "Name: Remote_Working_Ratio, dtype: int64\n",
      "\n"
     ]
    }
   ],
   "source": [
    "for column in missing_data.columns.values.tolist():\n",
    "    print(column)\n",
    "    print (missing_data[column].value_counts())\n",
    "    print(\"\")"
   ]
  },
  {
   "cell_type": "code",
   "execution_count": 120,
   "id": "1d30ea0e",
   "metadata": {},
   "outputs": [],
   "source": [
    "df.dropna(subset=[\"Salary_In_Rupees\"],axis=0, inplace=True)\n",
    "df.reset_index(drop=True, inplace=True)"
   ]
  },
  {
   "cell_type": "code",
   "execution_count": 121,
   "id": "97b3f462",
   "metadata": {},
   "outputs": [],
   "source": [
    "df.dropna(subset=[\"Remote_Working_Ratio\"],axis=0, inplace=True)\n",
    "df.reset_index(drop=True, inplace=True)"
   ]
  },
  {
   "cell_type": "code",
   "execution_count": 122,
   "id": "f1d03c96",
   "metadata": {},
   "outputs": [
    {
     "data": {
      "text/plain": [
       "N                       object\n",
       "working_year            object\n",
       "Designation             object\n",
       "Experience              object\n",
       "Employment_Status       object\n",
       "Salary_In_Rupees        object\n",
       "Employee_Location       object\n",
       "Company_Location        object\n",
       "Company_Size            object\n",
       "Remote_Working_Ratio    object\n",
       "dtype: object"
      ]
     },
     "execution_count": 122,
     "metadata": {},
     "output_type": "execute_result"
    }
   ],
   "source": [
    "df.dtypes"
   ]
  },
  {
   "cell_type": "code",
   "execution_count": 123,
   "id": "48e364a9",
   "metadata": {},
   "outputs": [],
   "source": [
    "df['Salary_In_Rupees'] = pd.to_numeric(df['Salary_In_Rupees'], errors='coerce')"
   ]
  },
  {
   "cell_type": "code",
   "execution_count": 124,
   "id": "3bc635a8",
   "metadata": {},
   "outputs": [],
   "source": [
    "df['Remote_Working_Ratio'] = pd.to_numeric(df['Remote_Working_Ratio'], errors='coerce')\n"
   ]
  },
  {
   "cell_type": "code",
   "execution_count": 125,
   "id": "fdc84fd1",
   "metadata": {},
   "outputs": [],
   "source": [
    "df['working_year'] = pd.to_numeric(df['working_year'], errors='coerce')"
   ]
  },
  {
   "cell_type": "code",
   "execution_count": 126,
   "id": "e7f936cb",
   "metadata": {},
   "outputs": [],
   "source": [
    "df['N'] = pd.to_numeric(df['N'], errors='coerce')"
   ]
  },
  {
   "cell_type": "code",
   "execution_count": 127,
   "id": "58aa1fb7",
   "metadata": {},
   "outputs": [
    {
     "data": {
      "text/plain": [
       "N                       float64\n",
       "working_year            float64\n",
       "Designation              object\n",
       "Experience               object\n",
       "Employment_Status        object\n",
       "Salary_In_Rupees        float64\n",
       "Employee_Location        object\n",
       "Company_Location         object\n",
       "Company_Size             object\n",
       "Remote_Working_Ratio    float64\n",
       "dtype: object"
      ]
     },
     "execution_count": 127,
     "metadata": {},
     "output_type": "execute_result"
    }
   ],
   "source": [
    "df.dtypes"
   ]
  },
  {
   "cell_type": "code",
   "execution_count": 128,
   "id": "87d8c532",
   "metadata": {},
   "outputs": [],
   "source": [
    "df.dropna(subset=['N'],axis=0, inplace=True)\n",
    "df.reset_index(drop=True, inplace=True)"
   ]
  },
  {
   "cell_type": "code",
   "execution_count": 129,
   "id": "1e529999",
   "metadata": {},
   "outputs": [],
   "source": [
    "df['Remote_Working_Ratio'] = df['Remote_Working_Ratio']/df['Remote_Working_Ratio'].max()\n",
    "df['Salary_In_Rupees'] = df['Salary_In_Rupees']/df['Salary_In_Rupees'].max()"
   ]
  },
  {
   "cell_type": "code",
   "execution_count": 130,
   "id": "bd0c794b",
   "metadata": {},
   "outputs": [
    {
     "data": {
      "text/html": [
       "<div>\n",
       "<style scoped>\n",
       "    .dataframe tbody tr th:only-of-type {\n",
       "        vertical-align: middle;\n",
       "    }\n",
       "\n",
       "    .dataframe tbody tr th {\n",
       "        vertical-align: top;\n",
       "    }\n",
       "\n",
       "    .dataframe thead th {\n",
       "        text-align: right;\n",
       "    }\n",
       "</style>\n",
       "<table border=\"1\" class=\"dataframe\">\n",
       "  <thead>\n",
       "    <tr style=\"text-align: right;\">\n",
       "      <th></th>\n",
       "      <th>Salary_In_Rupees</th>\n",
       "      <th>Remote_Working_Ratio</th>\n",
       "      <th>N</th>\n",
       "    </tr>\n",
       "  </thead>\n",
       "  <tbody>\n",
       "    <tr>\n",
       "      <th>0</th>\n",
       "      <td>NaN</td>\n",
       "      <td>0.0</td>\n",
       "      <td>1.0</td>\n",
       "    </tr>\n",
       "    <tr>\n",
       "      <th>1</th>\n",
       "      <td>NaN</td>\n",
       "      <td>0.0</td>\n",
       "      <td>4.0</td>\n",
       "    </tr>\n",
       "    <tr>\n",
       "      <th>2</th>\n",
       "      <td>NaN</td>\n",
       "      <td>0.5</td>\n",
       "      <td>5.0</td>\n",
       "    </tr>\n",
       "    <tr>\n",
       "      <th>3</th>\n",
       "      <td>NaN</td>\n",
       "      <td>1.0</td>\n",
       "      <td>7.0</td>\n",
       "    </tr>\n",
       "    <tr>\n",
       "      <th>4</th>\n",
       "      <td>NaN</td>\n",
       "      <td>0.5</td>\n",
       "      <td>8.0</td>\n",
       "    </tr>\n",
       "  </tbody>\n",
       "</table>\n",
       "</div>"
      ],
      "text/plain": [
       "   Salary_In_Rupees  Remote_Working_Ratio    N\n",
       "0               NaN                   0.0  1.0\n",
       "1               NaN                   0.0  4.0\n",
       "2               NaN                   0.5  5.0\n",
       "3               NaN                   1.0  7.0\n",
       "4               NaN                   0.5  8.0"
      ]
     },
     "execution_count": 130,
     "metadata": {},
     "output_type": "execute_result"
    }
   ],
   "source": [
    "df['Remote_Working_Ratio'] = df['Remote_Working_Ratio']/df['Remote_Working_Ratio'].max()\n",
    "df[['Salary_In_Rupees','Remote_Working_Ratio','N']].head()"
   ]
  },
  {
   "cell_type": "code",
   "execution_count": 131,
   "id": "bc6c7e8a",
   "metadata": {},
   "outputs": [],
   "source": [
    "df['Remote_Working_Ratio']=df['Remote_Working_Ratio']/df['Remote_Working_Ratio'].max()"
   ]
  },
  {
   "cell_type": "code",
   "execution_count": 132,
   "id": "e8576d6d",
   "metadata": {},
   "outputs": [
    {
     "data": {
      "text/html": [
       "<div>\n",
       "<style scoped>\n",
       "    .dataframe tbody tr th:only-of-type {\n",
       "        vertical-align: middle;\n",
       "    }\n",
       "\n",
       "    .dataframe tbody tr th {\n",
       "        vertical-align: top;\n",
       "    }\n",
       "\n",
       "    .dataframe thead th {\n",
       "        text-align: right;\n",
       "    }\n",
       "</style>\n",
       "<table border=\"1\" class=\"dataframe\">\n",
       "  <thead>\n",
       "    <tr style=\"text-align: right;\">\n",
       "      <th></th>\n",
       "      <th>Salary_In_Rupees</th>\n",
       "      <th>Remote_Working_Ratio</th>\n",
       "      <th>N</th>\n",
       "    </tr>\n",
       "  </thead>\n",
       "  <tbody>\n",
       "    <tr>\n",
       "      <th>0</th>\n",
       "      <td>NaN</td>\n",
       "      <td>0.0</td>\n",
       "      <td>1.0</td>\n",
       "    </tr>\n",
       "    <tr>\n",
       "      <th>1</th>\n",
       "      <td>NaN</td>\n",
       "      <td>0.0</td>\n",
       "      <td>4.0</td>\n",
       "    </tr>\n",
       "    <tr>\n",
       "      <th>2</th>\n",
       "      <td>NaN</td>\n",
       "      <td>0.5</td>\n",
       "      <td>5.0</td>\n",
       "    </tr>\n",
       "    <tr>\n",
       "      <th>3</th>\n",
       "      <td>NaN</td>\n",
       "      <td>1.0</td>\n",
       "      <td>7.0</td>\n",
       "    </tr>\n",
       "    <tr>\n",
       "      <th>4</th>\n",
       "      <td>NaN</td>\n",
       "      <td>0.5</td>\n",
       "      <td>8.0</td>\n",
       "    </tr>\n",
       "  </tbody>\n",
       "</table>\n",
       "</div>"
      ],
      "text/plain": [
       "   Salary_In_Rupees  Remote_Working_Ratio    N\n",
       "0               NaN                   0.0  1.0\n",
       "1               NaN                   0.0  4.0\n",
       "2               NaN                   0.5  5.0\n",
       "3               NaN                   1.0  7.0\n",
       "4               NaN                   0.5  8.0"
      ]
     },
     "execution_count": 132,
     "metadata": {},
     "output_type": "execute_result"
    }
   ],
   "source": [
    "df['Remote_Working_Ratio'] = df['Remote_Working_Ratio']/df['Remote_Working_Ratio'].max()\n",
    "df[['Salary_In_Rupees','Remote_Working_Ratio','N']].head()"
   ]
  },
  {
   "cell_type": "code",
   "execution_count": 133,
   "id": "fdbaee83",
   "metadata": {},
   "outputs": [
    {
     "data": {
      "text/plain": [
       "Text(0.5, 1.0, 'Remote_Working_Ratio bins')"
      ]
     },
     "execution_count": 133,
     "metadata": {},
     "output_type": "execute_result"
    },
    {
     "data": {
      "image/png": "[encoded data removed]",
      "text/plain": [
       "<Figure size 432x288 with 1 Axes>"
      ]
     },
     "metadata": {
      "needs_background": "light"
     },
     "output_type": "display_data"
    }
   ],
   "source": [
    "%matplotlib inline\n",
    "import matplotlib as plt\n",
    "from matplotlib import pyplot\n",
    "plt.pyplot.hist(df[\"Remote_Working_Ratio\"])\n",
    "\n",
    "# set x/y labels and plot title\n",
    "plt.pyplot.xlabel(\"Remote_Working_Ratio\")\n",
    "plt.pyplot.ylabel(\"count\")\n",
    "plt.pyplot.title(\"Remote_Working_Ratio bins\")"
   ]
  },
  {
   "cell_type": "code",
   "execution_count": 134,
   "id": "97032d6e",
   "metadata": {},
   "outputs": [
    {
     "data": {
      "text/plain": [
       "array([0.        , 0.33333333, 0.66666667, 1.        ])"
      ]
     },
     "execution_count": 134,
     "metadata": {},
     "output_type": "execute_result"
    }
   ],
   "source": [
    "bins = np.linspace(min(df[\"Remote_Working_Ratio\"]), max(df[\"Remote_Working_Ratio\"]), 4)\n",
    "bins"
   ]
  },
  {
   "cell_type": "code",
   "execution_count": 135,
   "id": "56428c0b",
   "metadata": {},
   "outputs": [],
   "source": [
    "group_names=['Low','Medium','High']"
   ]
  },
  {
   "cell_type": "code",
   "execution_count": 136,
   "id": "312ea67d",
   "metadata": {},
   "outputs": [
    {
     "data": {
      "text/html": [
       "<div>\n",
       "<style scoped>\n",
       "    .dataframe tbody tr th:only-of-type {\n",
       "        vertical-align: middle;\n",
       "    }\n",
       "\n",
       "    .dataframe tbody tr th {\n",
       "        vertical-align: top;\n",
       "    }\n",
       "\n",
       "    .dataframe thead th {\n",
       "        text-align: right;\n",
       "    }\n",
       "</style>\n",
       "<table border=\"1\" class=\"dataframe\">\n",
       "  <thead>\n",
       "    <tr style=\"text-align: right;\">\n",
       "      <th></th>\n",
       "      <th>Remote_Working_Ratio</th>\n",
       "      <th>Remote_Working_Ratio-binned</th>\n",
       "    </tr>\n",
       "  </thead>\n",
       "  <tbody>\n",
       "    <tr>\n",
       "      <th>0</th>\n",
       "      <td>0.0</td>\n",
       "      <td>Low</td>\n",
       "    </tr>\n",
       "    <tr>\n",
       "      <th>1</th>\n",
       "      <td>0.0</td>\n",
       "      <td>Low</td>\n",
       "    </tr>\n",
       "    <tr>\n",
       "      <th>2</th>\n",
       "      <td>0.5</td>\n",
       "      <td>Medium</td>\n",
       "    </tr>\n",
       "    <tr>\n",
       "      <th>3</th>\n",
       "      <td>1.0</td>\n",
       "      <td>High</td>\n",
       "    </tr>\n",
       "    <tr>\n",
       "      <th>4</th>\n",
       "      <td>0.5</td>\n",
       "      <td>Medium</td>\n",
       "    </tr>\n",
       "    <tr>\n",
       "      <th>5</th>\n",
       "      <td>1.0</td>\n",
       "      <td>High</td>\n",
       "    </tr>\n",
       "    <tr>\n",
       "      <th>6</th>\n",
       "      <td>0.5</td>\n",
       "      <td>Medium</td>\n",
       "    </tr>\n",
       "    <tr>\n",
       "      <th>7</th>\n",
       "      <td>0.0</td>\n",
       "      <td>Low</td>\n",
       "    </tr>\n",
       "    <tr>\n",
       "      <th>8</th>\n",
       "      <td>0.0</td>\n",
       "      <td>Low</td>\n",
       "    </tr>\n",
       "    <tr>\n",
       "      <th>9</th>\n",
       "      <td>1.0</td>\n",
       "      <td>High</td>\n",
       "    </tr>\n",
       "    <tr>\n",
       "      <th>10</th>\n",
       "      <td>0.5</td>\n",
       "      <td>Medium</td>\n",
       "    </tr>\n",
       "    <tr>\n",
       "      <th>11</th>\n",
       "      <td>1.0</td>\n",
       "      <td>High</td>\n",
       "    </tr>\n",
       "    <tr>\n",
       "      <th>12</th>\n",
       "      <td>1.0</td>\n",
       "      <td>High</td>\n",
       "    </tr>\n",
       "    <tr>\n",
       "      <th>13</th>\n",
       "      <td>0.5</td>\n",
       "      <td>Medium</td>\n",
       "    </tr>\n",
       "    <tr>\n",
       "      <th>14</th>\n",
       "      <td>1.0</td>\n",
       "      <td>High</td>\n",
       "    </tr>\n",
       "    <tr>\n",
       "      <th>15</th>\n",
       "      <td>0.0</td>\n",
       "      <td>Low</td>\n",
       "    </tr>\n",
       "    <tr>\n",
       "      <th>16</th>\n",
       "      <td>1.0</td>\n",
       "      <td>High</td>\n",
       "    </tr>\n",
       "    <tr>\n",
       "      <th>17</th>\n",
       "      <td>0.5</td>\n",
       "      <td>Medium</td>\n",
       "    </tr>\n",
       "    <tr>\n",
       "      <th>18</th>\n",
       "      <td>0.0</td>\n",
       "      <td>Low</td>\n",
       "    </tr>\n",
       "    <tr>\n",
       "      <th>19</th>\n",
       "      <td>0.0</td>\n",
       "      <td>Low</td>\n",
       "    </tr>\n",
       "  </tbody>\n",
       "</table>\n",
       "</div>"
      ],
      "text/plain": [
       "    Remote_Working_Ratio Remote_Working_Ratio-binned\n",
       "0                    0.0                         Low\n",
       "1                    0.0                         Low\n",
       "2                    0.5                      Medium\n",
       "3                    1.0                        High\n",
       "4                    0.5                      Medium\n",
       "5                    1.0                        High\n",
       "6                    0.5                      Medium\n",
       "7                    0.0                         Low\n",
       "8                    0.0                         Low\n",
       "9                    1.0                        High\n",
       "10                   0.5                      Medium\n",
       "11                   1.0                        High\n",
       "12                   1.0                        High\n",
       "13                   0.5                      Medium\n",
       "14                   1.0                        High\n",
       "15                   0.0                         Low\n",
       "16                   1.0                        High\n",
       "17                   0.5                      Medium\n",
       "18                   0.0                         Low\n",
       "19                   0.0                         Low"
      ]
     },
     "execution_count": 136,
     "metadata": {},
     "output_type": "execute_result"
    }
   ],
   "source": [
    "df['Remote_Working_Ratio-binned'] = pd.cut(df['Remote_Working_Ratio'], bins, labels=group_names, include_lowest=True )\n",
    "df[['Remote_Working_Ratio','Remote_Working_Ratio-binned']].head(20)"
   ]
  },
  {
   "cell_type": "code",
   "execution_count": 137,
   "id": "06b53a5a",
   "metadata": {},
   "outputs": [
    {
     "data": {
      "text/plain": [
       "High      378\n",
       "Low       125\n",
       "Medium     97\n",
       "Name: Remote_Working_Ratio-binned, dtype: int64"
      ]
     },
     "execution_count": 137,
     "metadata": {},
     "output_type": "execute_result"
    }
   ],
   "source": [
    "df[\"Remote_Working_Ratio-binned\"].value_counts()"
   ]
  },
  {
   "cell_type": "code",
   "execution_count": 138,
   "id": "9b940cc7",
   "metadata": {},
   "outputs": [
    {
     "data": {
      "text/plain": [
       "Text(0.5, 1.0, 'Remote_Working_Ratio bins')"
      ]
     },
     "execution_count": 138,
     "metadata": {},
     "output_type": "execute_result"
    },
    {
     "data": {
      "image/png": "[encoded data removed]",
      "text/plain": [
       "<Figure size 432x288 with 1 Axes>"
      ]
     },
     "metadata": {
      "needs_background": "light"
     },
     "output_type": "display_data"
    }
   ],
   "source": [
    "%matplotlib inline\n",
    "import matplotlib as plt\n",
    "from matplotlib import pyplot\n",
    "pyplot.bar(group_names, df[\"Remote_Working_Ratio-binned\"].value_counts())\n",
    "\n",
    "# set x/y labels and plot title\n",
    "plt.pyplot.xlabel(\"Remote_Working_Ratio\")\n",
    "plt.pyplot.ylabel(\"count\")\n",
    "plt.pyplot.title(\"Remote_Working_Ratio bins\")"
   ]
  },
  {
   "cell_type": "code",
   "execution_count": 139,
   "id": "b30c641e",
   "metadata": {},
   "outputs": [
    {
     "data": {
      "text/plain": [
       "Text(0.5, 1.0, 'Remote_Working_Ratio')"
      ]
     },
     "execution_count": 139,
     "metadata": {},
     "output_type": "execute_result"
    },
    {
     "data": {
      "image/png": "[encoded data removed]",
      "text/plain": [
       "<Figure size 432x288 with 1 Axes>"
      ]
     },
     "metadata": {
      "needs_background": "light"
     },
     "output_type": "display_data"
    }
   ],
   "source": [
    "%matplotlib inline\n",
    "import matplotlib as plt\n",
    "from matplotlib import pyplot\n",
    "\n",
    "\n",
    "# draw historgram of attribute \"horsepower\" with bins = 3\n",
    "plt.pyplot.hist(df[\"Remote_Working_Ratio\"], bins = 3)\n",
    "\n",
    "# set x/y labels and plot title\n",
    "plt.pyplot.xlabel(\"Remote_Working_Ratio\")\n",
    "plt.pyplot.ylabel(\"count\")\n",
    "plt.pyplot.title(\"Remote_Working_Ratio\")"
   ]
  },
  {
   "cell_type": "code",
   "execution_count": null,
   "id": "224368a7",
   "metadata": {},
   "outputs": [],
   "source": []
  },
  {
   "cell_type": "code",
   "execution_count": null,
   "id": "f97cf9ce",
   "metadata": {},
   "outputs": [],
   "source": []
  },
  {
   "cell_type": "code",
   "execution_count": null,
   "id": "cba4e798",
   "metadata": {},
   "outputs": [],
   "source": []
  },
  {
   "cell_type": "code",
   "execution_count": null,
   "id": "b26e1cb5",
   "metadata": {},
   "outputs": [],
   "source": []
  },
  {
   "cell_type": "code",
   "execution_count": null,
   "id": "f20f14a6",
   "metadata": {},
   "outputs": [],
   "source": []
  }
 ],
 "metadata": {
  "kernelspec": {
   "display_name": "Python 3 (ipykernel)",
   "language": "python",
   "name": "python3"
  },
  "language_info": {
   "codemirror_mode": {
    "name": "ipython",
    "version": 3
   },
   "file_extension": ".py",
   "mimetype": "text/x-python",
   "name": "python",
   "nbconvert_exporter": "python",
   "pygments_lexer": "ipython3",
   "version": "3.9.12"
  }
 },
 "nbformat": 4,
 "nbformat_minor": 5
}
